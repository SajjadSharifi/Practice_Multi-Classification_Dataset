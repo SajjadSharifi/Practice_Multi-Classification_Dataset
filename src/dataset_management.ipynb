{
 "cells": [
  {
   "cell_type": "code",
   "execution_count": 22,
   "id": "25d8960e",
   "metadata": {},
   "outputs": [],
   "source": [
    "import pandas as pd\n",
    "import numpy as np\n",
    "from pathlib import Path\n",
    "from multiprocessing import Pool\n",
    "from joblib import delayed, Parallel"
   ]
  },
  {
   "cell_type": "code",
   "execution_count": 24,
   "id": "c69140ba",
   "metadata": {},
   "outputs": [
    {
     "data": {
      "text/plain": [
       "'\\nexcel_files_path = list(Path(root).rglob(\\'*.xlsx\\'))\\nfor file in excel_files_path:\\n    df = pd.read_excel(file)\\n    new_path = file.with_suffix(\".csv\")\\n    df.to_csv(new_path, index=False)\\n'"
      ]
     },
     "execution_count": 24,
     "metadata": {},
     "output_type": "execute_result"
    }
   ],
   "source": [
    "#to make a copy of excel files and convert them to csv\n",
    "# just run it once!!!!!\n",
    "'''\n",
    "excel_files_path = list(Path(root).rglob('*.xlsx'))\n",
    "for file in excel_files_path:\n",
    "    df = pd.read_excel(file)\n",
    "    new_path = file.with_suffix(\".csv\")\n",
    "    df.to_csv(new_path, index=False)\n",
    "'''"
   ]
  },
  {
   "cell_type": "code",
   "execution_count": 23,
   "id": "b50d7f99",
   "metadata": {},
   "outputs": [],
   "source": [
    "root = 'D:/Projects/AI/Python_3.13.5/First_DataSet_Fix/data'\n",
    "csv_files_path = list(Path(root).rglob('*.csv'))"
   ]
  },
  {
   "cell_type": "code",
   "execution_count": 25,
   "id": "4771adfa",
   "metadata": {},
   "outputs": [],
   "source": [
    "def file_processor(file_path):\n",
    "    column_name = [\n",
    " 'file_row_number',\n",
    " 'file_number',\n",
    " 'first_floor_code',\n",
    " 'first_floor_name',\n",
    " 'second_floor_code',\n",
    " 'second_floor_name',\n",
    " 'third_floor_code',\n",
    " 'third_floor_name'\n",
    "]\n",
    "\n",
    "    data = pd.read_csv(file_path)\n",
    "    data.columns = column_name\n",
    "    data['combined_labels'] = (data['first_floor_code'] * 1000) + (data['second_floor_code'] * 100) + (data['third_floor_code'])\n",
    "    return data['file_number'].tolist(), data['combined_labels'].tolist()"
   ]
  },
  {
   "cell_type": "code",
   "execution_count": 26,
   "id": "bdd129c8",
   "metadata": {},
   "outputs": [],
   "source": [
    "csv_value = {'file_name': list(), 'label': list()}\n",
    "\n",
    "# if you have better cpu change n_job\n",
    "results = Parallel(n_jobs=6)(\n",
    "    delayed(file_processor)(file) for file in csv_files_path\n",
    "    )\n",
    "\n",
    "for file_number, combined_label in results:\n",
    "    csv_value['file_name'].extend(file_number)\n",
    "    csv_value['label'].extend(combined_label)\n",
    "\n",
    "final_csv_path = 'D:/Projects/AI/Python_3.13.5/First_DataSet_Fix/my_data/final.csv'\n",
    "pd.DataFrame(csv_value).to_csv(final_csv_path, index=False)"
   ]
  },
  {
   "cell_type": "code",
   "execution_count": 27,
   "id": "32e09a3d",
   "metadata": {},
   "outputs": [],
   "source": [
    "# make grouped_final.csv using pandas\n",
    "df['label'] = df['label'].astype(str)\n",
    "grouped = df.groupby('file_name')['label'].apply(list).reset_index()\n",
    "grouped['label'] = grouped['label'].apply(lambda x: sorted(list(set(x))))\n",
    "grouped.to_csv('D:/Projects/AI/Python_3.13.5/First_DataSet_Fix/my_data/grouped_final.csv', index=False)\n"
   ]
  }
 ],
 "metadata": {
  "kernelspec": {
   "display_name": ".venv",
   "language": "python",
   "name": "python3"
  },
  "language_info": {
   "codemirror_mode": {
    "name": "ipython",
    "version": 3
   },
   "file_extension": ".py",
   "mimetype": "text/x-python",
   "name": "python",
   "nbconvert_exporter": "python",
   "pygments_lexer": "ipython3",
   "version": "3.13.5"
  }
 },
 "nbformat": 4,
 "nbformat_minor": 5
}
